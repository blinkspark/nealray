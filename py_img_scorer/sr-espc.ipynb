{
 "cells": [
  {
   "cell_type": "code",
   "execution_count": null,
   "metadata": {},
   "outputs": [],
   "source": [
    "import tensorflow as tf, keras\n",
    "from keras import Model, layers, optimizers, losses\n",
    "import numpy as np, pandas as pd, matplotlib.pyplot as plt\n",
    "import os, sys,concurrent.futures as futures\n",
    "from PIL import Image"
   ]
  },
  {
   "cell_type": "code",
   "execution_count": null,
   "metadata": {},
   "outputs": [],
   "source": [
    "channels = 3\n",
    "conv_args = {\n",
    "    \"activation\": \"relu\",\n",
    "    \"kernel_initializer\": \"Orthogonal\",\n",
    "    \"padding\": \"same\",\n",
    "}\n",
    "upscale_factor = 2\n",
    "working_dir = 'o:/temp/pixiv/training/ds'"
   ]
  },
  {
   "cell_type": "code",
   "execution_count": null,
   "metadata": {},
   "outputs": [],
   "source": [
    "il = layers.Input(shape=(None, None, channels))\n",
    "x = layers.Conv2D(64, 3, **conv_args)(il)\n",
    "x = layers.Conv2D(64, 3, **conv_args)(x)\n",
    "x = layers.Conv2D(128, 3, **conv_args)(x)\n",
    "x = layers.Conv2D(channels * (upscale_factor**2), 3, **conv_args)(x)\n",
    "ol = tf.nn.depth_to_space(x, upscale_factor)\n",
    "model = Model(il, ol)\n",
    "model.summary()\n",
    "model.compile(optimizer=tf.keras.optimizers.Adam(learning_rate=0.001),\n",
    "              loss=losses.MeanSquaredError())\n"
   ]
  },
  {
   "cell_type": "code",
   "execution_count": null,
   "metadata": {},
   "outputs": [],
   "source": [
    "def proccess_img(path):\n",
    "    img = Image.open(path)\n",
    "    dimg = img.resize(\n",
    "        (img.width // upscale_factor, img.height // upscale_factor),\n",
    "        Image.BICUBIC)\n",
    "    x = (np.array(dimg) / 255.0).astype(np.float32)\n",
    "    y = (np.array(img) / 255.0).astype(np.float32)\n",
    "    return x, y\n",
    "\n",
    "\n",
    "with futures.ThreadPoolExecutor(max_workers=6) as executor:\n",
    "    img_paths = []\n",
    "    for f in os.listdir(working_dir):\n",
    "        if not (f.endswith('.png') or f.endswith('.jpg')):\n",
    "            continue\n",
    "        img_path = os.path.join(working_dir, f)\n",
    "        img_paths.append(img_path)\n",
    "    ds = list(executor.map(proccess_img, img_paths))\n",
    "    dx = np.array([i[0] for i in ds])\n",
    "    dy = np.array([i[1] for i in ds])\n"
   ]
  },
  {
   "cell_type": "code",
   "execution_count": null,
   "metadata": {},
   "outputs": [],
   "source": [
    "esc = keras.callbacks.EarlyStopping(\n",
    "    monitor=\"val_loss\",\n",
    "    patience=10,\n",
    "    verbose=1,\n",
    "    mode='min',\n",
    "    restore_best_weights=True,\n",
    ")\n",
    "model.fit(dx,\n",
    "          dy,\n",
    "          batch_size=50,\n",
    "          validation_split=0.1,\n",
    "          epochs=1000,\n",
    "          callbacks=[esc])\n"
   ]
  },
  {
   "cell_type": "code",
   "execution_count": null,
   "metadata": {},
   "outputs": [],
   "source": [
    "img = Image.open('./test.png')\n",
    "img_up = img.resize((img.width * upscale_factor, img.height * upscale_factor))\n",
    "img_up.save('./test_up.png', quality=100)\n",
    "img = (np.array(img) / 255.0).astype(np.float32)\n",
    "img = np.expand_dims(img, axis=0)\n",
    "res = model.predict(img)\n",
    "print(res.shape)\n",
    "keras.preprocessing.image.array_to_img(res[0]).save('./test_sr.png',\n",
    "                                                    quality=100)"
   ]
  },
  {
   "cell_type": "code",
   "execution_count": null,
   "metadata": {},
   "outputs": [],
   "source": [
    "\n",
    "model.save('./sr-espc.h5')"
   ]
  },
  {
   "cell_type": "code",
   "execution_count": null,
   "metadata": {},
   "outputs": [],
   "source": [
    "model.summary()"
   ]
  }
 ],
 "metadata": {
  "interpreter": {
   "hash": "2a765c70a93b94e6c6308bc02fe48034fea3f1086e8d50b596d4a63fb95b1ef2"
  },
  "kernelspec": {
   "display_name": "Python 3.10.2 64-bit",
   "language": "python",
   "name": "python3"
  },
  "language_info": {
   "codemirror_mode": {
    "name": "ipython",
    "version": 3
   },
   "file_extension": ".py",
   "mimetype": "text/x-python",
   "name": "python",
   "nbconvert_exporter": "python",
   "pygments_lexer": "ipython3",
   "version": "3.10.2"
  },
  "orig_nbformat": 4
 },
 "nbformat": 4,
 "nbformat_minor": 2
}
