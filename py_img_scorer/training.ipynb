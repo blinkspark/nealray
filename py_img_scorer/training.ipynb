{
 "cells": [
  {
   "cell_type": "code",
   "execution_count": null,
   "metadata": {},
   "outputs": [],
   "source": [
    "import tensorflow as tf\n",
    "import numpy as np\n",
    "import pandas as pd\n",
    "import keras\n",
    "from keras import layers, activations\n",
    "from os import path\n",
    "from PIL import Image\n",
    "import pickle\n",
    "from concurrent import futures\n",
    "from matplotlib import pyplot as plt\n",
    "\n",
    "trainingDataDir = 'o:/temp/pixiv/training/'\n",
    "targetSize = (224, 224)\n",
    "targetShape = (224, 224, 3)\n",
    "seed = 1"
   ]
  },
  {
   "cell_type": "code",
   "execution_count": null,
   "metadata": {},
   "outputs": [],
   "source": [
    "data = pd.read_csv(path.join(trainingDataDir, 'score.csv'),index_col='img')\n",
    "data.head()"
   ]
  },
  {
   "cell_type": "code",
   "execution_count": null,
   "metadata": {},
   "outputs": [],
   "source": [
    "# create training and validation set\n",
    "data1 = data.sample(frac=0.8, random_state=seed)\n",
    "data2 = data.drop(data1.index)"
   ]
  },
  {
   "cell_type": "code",
   "execution_count": null,
   "metadata": {},
   "outputs": [],
   "source": [
    "def process_img(imgName):\n",
    "    img = Image.open(path.join(trainingDataDir, imgName))\n",
    "    xx = max(img.size)\n",
    "    newImg = Image.new('RGB', (xx, xx))\n",
    "    newImg.paste(img, (int((xx - img.size[0]) / 2), int(\n",
    "        (xx - img.size[1]) / 2)))\n",
    "    newImg = newImg.resize(targetSize, Image.BICUBIC)\n",
    "    return np.array(newImg)\n",
    "\n",
    "\n",
    "def create_dateset(data):\n",
    "    # dx,dy = ([],[])\n",
    "    with futures.ThreadPoolExecutor(max_workers=12) as executor:\n",
    "        trainX = np.array(list(executor.map(process_img, data.index)))\n",
    "        trainY = []\n",
    "        for i in data.index:\n",
    "            score = int(data.loc[i, 'score'])\n",
    "            scoreOneHot = np.zeros(3)\n",
    "            scoreOneHot[score - 1] = 1\n",
    "            trainY.append(scoreOneHot)\n",
    "        trainY = np.array(trainY)\n",
    "        return trainX, trainY\n",
    "\n",
    "\n",
    "def create_datasets(data):\n",
    "    data1 = data.sample(frac=0.8, random_state=seed)\n",
    "    data2 = data.drop(data1.index)\n",
    "    (trainX, trainY) = create_dateset(data1)\n",
    "    (testX, testY) = create_dateset(data2)\n",
    "    return (trainX, trainY), (testX, testY)\n",
    "\n",
    "\n",
    "def load_data(dataPath):\n",
    "    if path.exists(dataPath):\n",
    "        with open(dataPath, 'rb') as f:\n",
    "            return pickle.load(f)\n",
    "    else:\n",
    "        with open('ds.pickle', 'wb') as f:\n",
    "            (trainX, trainY), (testX, testY) = create_datasets(data)\n",
    "            pickle.dump(((trainX, trainY), (testX, testY)), f)\n",
    "        return (trainX, trainY), (testX, testY)"
   ]
  },
  {
   "cell_type": "code",
   "execution_count": null,
   "metadata": {},
   "outputs": [],
   "source": [
    "(trainX, trainY), (testX, testY) = load_data('ds.pickle')"
   ]
  },
  {
   "cell_type": "code",
   "execution_count": null,
   "metadata": {},
   "outputs": [],
   "source": [
    "mobNet = keras.applications.mobilenet_v2.MobileNetV2(include_top=False,\n",
    "                                                     weights='imagenet',\n",
    "                                                     input_shape=targetShape)\n",
    "for layer in mobNet.layers:\n",
    "    layer.trainable = False\n"
   ]
  },
  {
   "cell_type": "code",
   "execution_count": null,
   "metadata": {},
   "outputs": [],
   "source": [
    "inputLayer = layers.Input(shape=targetShape)\n",
    "# preprocess\n",
    "x = layers.RandomFlip()(inputLayer)\n",
    "x = layers.RandomZoom(height_factor=0.2, width_factor=0.2)(x)\n",
    "x = layers.RandomRotation(0.2)(x)\n",
    "x = layers.Rescaling(scale=1. / 127.5, offset=-1)(x)\n",
    "x = mobNet(x)\n",
    "x = layers.GlobalAveragePooling2D()(x)\n",
    "x = layers.Dropout(0.2)(x)\n",
    "x = layers.Dense(2048)(x)\n",
    "x = layers.ReLU()(x)\n",
    "x = layers.Dropout(0.2)(x)\n",
    "x = layers.Dense(2048)(x)\n",
    "x = layers.ReLU()(x)\n",
    "outputLayer = layers.Dense(3, activation='softmax')(x)\n",
    "model = keras.Model(inputs=inputLayer, outputs=outputLayer)\n",
    "model.compile(optimizer='adam',\n",
    "              loss='categorical_crossentropy',\n",
    "              metrics=['accuracy'])\n",
    "model.summary()\n"
   ]
  },
  {
   "cell_type": "code",
   "execution_count": null,
   "metadata": {},
   "outputs": [],
   "source": [
    "cbs = [\n",
    "    keras.callbacks.EarlyStopping(monitor='val_accuracy',\n",
    "                                  patience=20,\n",
    "                                  verbose=1,\n",
    "                                  restore_best_weights=True)\n",
    "]\n",
    "model.fit(trainX, trainY, batch_size=64, epochs=1000, validation_split=0.2,callbacks=cbs)\n"
   ]
  },
  {
   "cell_type": "code",
   "execution_count": null,
   "metadata": {},
   "outputs": [],
   "source": [
    "# model = keras.models.load_model('model-dp2-06280.h5')"
   ]
  },
  {
   "cell_type": "code",
   "execution_count": null,
   "metadata": {},
   "outputs": [],
   "source": [
    "import random\n",
    "i = random.randint(0, len(testX))\n",
    "pred = model.predict(testX[i:i + 1])\n",
    "print(pred)\n",
    "print('pred:', np.argmax(pred[0]) + 1)\n",
    "print('y:', np.argmax(testY[i:i + 1]) + 1)\n",
    "plt.imshow(testX[i])\n"
   ]
  },
  {
   "cell_type": "code",
   "execution_count": null,
   "metadata": {},
   "outputs": [],
   "source": [
    "model.evaluate(testX, testY)"
   ]
  },
  {
   "cell_type": "code",
   "execution_count": null,
   "metadata": {},
   "outputs": [],
   "source": [
    "model.save('model-dp2.h5')"
   ]
  }
 ],
 "metadata": {
  "interpreter": {
   "hash": "2a765c70a93b94e6c6308bc02fe48034fea3f1086e8d50b596d4a63fb95b1ef2"
  },
  "kernelspec": {
   "display_name": "Python 3.10.2 64-bit",
   "language": "python",
   "name": "python3"
  },
  "language_info": {
   "codemirror_mode": {
    "name": "ipython",
    "version": 3
   },
   "file_extension": ".py",
   "mimetype": "text/x-python",
   "name": "python",
   "nbconvert_exporter": "python",
   "pygments_lexer": "ipython3",
   "version": "3.10.2"
  },
  "orig_nbformat": 4
 },
 "nbformat": 4,
 "nbformat_minor": 2
}
